{
 "cells": [
  {
   "cell_type": "code",
   "execution_count": 1,
   "metadata": {},
   "outputs": [],
   "source": [
    "#import module\n",
    "\n",
    "from tensorflow.keras.preprocessing.text import Tokenizer\n",
    "from tensorflow.keras.preprocessing.sequence import pad_sequences\n",
    "from tensorflow.keras.layers import SimpleRNN, Embedding, Dense\n",
    "from tensorflow.keras.models import Sequential\n",
    "from tensorflow.keras.models import load_model"
   ]
  },
  {
   "cell_type": "markdown",
   "metadata": {},
   "source": [
    "1. 전처리(Preprocessing)"
   ]
  },
  {
   "cell_type": "code",
   "execution_count": 2,
   "metadata": {},
   "outputs": [
    {
     "name": "stdout",
     "output_type": "stream",
     "text": [
      "정수 인코딩 :  [1, 2, 3, 4, 6, 7]\n",
      "단어 집합 :  {'the': 1, 'earth': 2, 'is': 3, 'an': 4, 'awesome': 5, 'place': 6, 'live': 7}\n"
     ]
    }
   ],
   "source": [
    "#Tokenizer() : 토큰화와 정수 인코딩을 위해 사용\n",
    "\n",
    "tokenizer = Tokenizer()\n",
    "train_text = \"The earth is an awesome place live\"\n",
    "\n",
    "# 단어 집합 생성\n",
    "tokenizer.fit_on_texts([train_text])\n",
    "\n",
    "# 정수 인코딩\n",
    "sub_text = \"The earth is an great place live\"\n",
    "sequences = tokenizer.texts_to_sequences([sub_text])[0]\n",
    "\n",
    "print(\"정수 인코딩 : \",sequences)\n",
    "print(\"단어 집합 : \",tokenizer.word_index)\n"
   ]
  },
  {
   "cell_type": "code",
   "execution_count": 3,
   "metadata": {},
   "outputs": [
    {
     "data": {
      "text/plain": [
       "array([[1, 2, 3],\n",
       "       [4, 5, 6],\n",
       "       [0, 7, 8]])"
      ]
     },
     "execution_count": 3,
     "metadata": {},
     "output_type": "execute_result"
    }
   ],
   "source": [
    "# pad_sequence() : 서로 다른 길이의 샘플들의 길이를 동일하게 맞춰주는 작업\n",
    "# 첫번쨰 인자 : 패딩을 진행할 데이터 / maxlen : 정규화 할 길이 / padding : 'pre'(앞 에 0을 채움) or 'post' (뒤에 0을 채움)\n",
    "pad_sequences([[1, 2, 3], [3, 4, 5, 6], [7, 8]], maxlen=3, padding='pre')"
   ]
  },
  {
   "cell_type": "markdown",
   "metadata": {},
   "source": [
    "2. 워드 임베딩(Word Embedding)"
   ]
  },
  {
   "cell_type": "code",
   "execution_count": 4,
   "metadata": {},
   "outputs": [
    {
     "data": {
      "text/plain": [
       "' 각 정수는 아래의 테이블의 인덱스로 사용되며 Embedding()은 각 단어마다 임베딩 벡터를 리턴한다.\\n+------------+------------+\\n|   index    | embedding  |\\n+------------+------------+\\n|     0      | [1.2, 3.1] |\\n|     1      | [0.1, 4.2] |\\n|     2      | [1.0, 3.1] |\\n|     3      | [0.3, 2.1] |\\n|     4      | [2.2, 1.4] |\\n|     5      | [0.7, 1.7] |\\n|     6      | [4.1, 2.0] |\\n+------------+------------+\\n\\n# 위의 표는 임베딩 벡터가 된 결과를 예로서 정리한 것이고 Embedding()의 출력인 3D 텐서를 보여주는 것이 아님. '"
      ]
     },
     "execution_count": 4,
     "metadata": {},
     "output_type": "execute_result"
    }
   ],
   "source": [
    "# Embedding() : 단어를 밀집 벡터(Dense Vector)로 만드는 역할을 한다.\n",
    "# 첫번째 인자 : 단어 집합의 크기. 즉, 총 단어의 개수 / 두번째 인자 : 임베딩 벡터의 출력 차원. 결과로서 나오는 임베딩 벡터의 크기 : input_length = 입력 시퀀스의 길이\n",
    "\n",
    "# 1. 토큰화\n",
    "tokenized_text = [['Hope', 'to', 'see', 'you', 'soon'], ['Nice', 'to', 'see', 'you', 'again']]\n",
    "\n",
    "# 2. 각 단어에 대한 정수 인코딩\n",
    "encoded_text = [[0, 1, 2, 3, 4],[5, 1, 2, 3, 6]]\n",
    "\n",
    "# 3. 위 정수 인코딩 데이터가 아래의 임베딩 층의 입력이 된다.\n",
    "vocab_size = 7\n",
    "embedding_dim = 2\n",
    "Embedding(vocab_size, embedding_dim, input_length=5)\n",
    "\n",
    "\"\"\" 각 정수는 아래의 테이블의 인덱스로 사용되며 Embedding()은 각 단어마다 임베딩 벡터를 리턴한다.\n",
    "+------------+------------+\n",
    "|   index    | embedding  |\n",
    "+------------+------------+\n",
    "|     0      | [1.2, 3.1] |\n",
    "|     1      | [0.1, 4.2] |\n",
    "|     2      | [1.0, 3.1] |\n",
    "|     3      | [0.3, 2.1] |\n",
    "|     4      | [2.2, 1.4] |\n",
    "|     5      | [0.7, 1.7] |\n",
    "|     6      | [4.1, 2.0] |\n",
    "+------------+------------+\n",
    "\n",
    "# 위의 표는 임베딩 벡터가 된 결과를 예로서 정리한 것이고 Embedding()의 출력인 3D 텐서를 보여주는 것이 아님. \"\"\"\n"
   ]
  },
  {
   "cell_type": "markdown",
   "metadata": {},
   "source": [
    "3. 모델링(Modeling)"
   ]
  },
  {
   "cell_type": "code",
   "execution_count": 5,
   "metadata": {},
   "outputs": [],
   "source": [
    "#Sequential() : 층을 구성하는 방법 중 하나로 층을 순서대로 쌓아서 구성하는 방법\n",
    "\n",
    "model = Sequential()\n",
    "model.add(Embedding(vocab_size, embedding_dim, input_length = 5)) #임베딩 층을 추가하는 예시"
   ]
  },
  {
   "cell_type": "code",
   "execution_count": 6,
   "metadata": {},
   "outputs": [],
   "source": [
    "model = Sequential()\n",
    "model.add(Dense(1, input_dim = 3, activation='relu')) # 전결합층(fully-connected layer)을 추가하는 예시"
   ]
  },
  {
   "cell_type": "code",
   "execution_count": 7,
   "metadata": {},
   "outputs": [],
   "source": [
    "model = Sequential()\n",
    "model.add(Dense(8, input_dim = 4,activation='relu'))\n",
    "model.add(Dense(1, activation='sigmoid')) # 출력층을 추가하는 예시(이전 층의 뉴런수가 1이므로 input_dim을 적지 않아도 됨)"
   ]
  },
  {
   "cell_type": "code",
   "execution_count": 8,
   "metadata": {},
   "outputs": [
    {
     "name": "stdout",
     "output_type": "stream",
     "text": [
      "Model: \"sequential_2\"\n",
      "_________________________________________________________________\n",
      " Layer (type)                Output Shape              Param #   \n",
      "=================================================================\n",
      " dense_1 (Dense)             (None, 8)                 40        \n",
      "                                                                 \n",
      " dense_2 (Dense)             (None, 1)                 9         \n",
      "                                                                 \n",
      "=================================================================\n",
      "Total params: 49 (196.00 Byte)\n",
      "Trainable params: 49 (196.00 Byte)\n",
      "Non-trainable params: 0 (0.00 Byte)\n",
      "_________________________________________________________________\n"
     ]
    }
   ],
   "source": [
    "model.summary()"
   ]
  },
  {
   "cell_type": "markdown",
   "metadata": {},
   "source": [
    "4. 컴파일(Compile)과 훈련(Training)"
   ]
  },
  {
   "cell_type": "code",
   "execution_count": 9,
   "metadata": {},
   "outputs": [],
   "source": [
    "#compile() : 모델을 기계가 이해할 수 있도록 컴파일\n",
    "#optimizer = 훈련 과정을 설정하는 옵티마이저를 설정\n",
    "#loss = 훈련 과정에서 사용할 손실 함수를 설정\n",
    "#metrics = 훈련을 모니터링하기 위한 지표를 설정\n",
    "\n",
    "vocab_size = 10000\n",
    "embedding_dim = 32\n",
    "hidden_units = 32\n",
    "\n",
    "model = Sequential()\n",
    "model.add(Embedding(vocab_size, embedding_dim))\n",
    "model.add(SimpleRNN(hidden_units))\n",
    "model.add(Dense(1, activation='sigmoid'))\n",
    "model.compile(optimizer='rmsprop', loss='binary_crossentropy', metrics=['acc'])"
   ]
  },
  {
   "cell_type": "code",
   "execution_count": 10,
   "metadata": {},
   "outputs": [
    {
     "name": "stdout",
     "output_type": "stream",
     "text": [
      "Epoch 1/10\n",
      "1/1 [==============================] - 1s 901ms/step - loss: 0.6508 - acc: 0.5000\n",
      "Epoch 2/10\n",
      "1/1 [==============================] - 0s 9ms/step - loss: 0.5690 - acc: 1.0000\n",
      "Epoch 3/10\n",
      "1/1 [==============================] - 0s 20ms/step - loss: 0.5088 - acc: 1.0000\n",
      "Epoch 4/10\n",
      "1/1 [==============================] - 0s 8ms/step - loss: 0.4554 - acc: 1.0000\n",
      "Epoch 5/10\n",
      "1/1 [==============================] - 0s 8ms/step - loss: 0.4064 - acc: 1.0000\n",
      "Epoch 6/10\n",
      "1/1 [==============================] - 0s 7ms/step - loss: 0.3611 - acc: 1.0000\n",
      "Epoch 7/10\n",
      "1/1 [==============================] - 0s 7ms/step - loss: 0.3194 - acc: 1.0000\n",
      "Epoch 8/10\n",
      "1/1 [==============================] - 0s 9ms/step - loss: 0.2814 - acc: 1.0000\n",
      "Epoch 9/10\n",
      "1/1 [==============================] - 0s 7ms/step - loss: 0.2471 - acc: 1.0000\n",
      "Epoch 10/10\n",
      "1/1 [==============================] - 0s 22ms/step - loss: 0.2165 - acc: 1.0000\n"
     ]
    },
    {
     "data": {
      "text/plain": [
       "<keras.src.callbacks.History at 0x15c0d023a10>"
      ]
     },
     "execution_count": 10,
     "metadata": {},
     "output_type": "execute_result"
    }
   ],
   "source": [
    "# 위의 compile() 코드의 연장선상인 코드\n",
    "# fit() : 모델을 학습\n",
    "X_train = [[1, 2, 3, 4, 5], [6, 7, 8, 9, 10]]\n",
    "y_train = [1, 0]\n",
    "model.fit(X_train, y_train, epochs=10, batch_size=32)"
   ]
  },
  {
   "cell_type": "markdown",
   "metadata": {},
   "source": [
    "5. 평가(Evaluation)와 예측(Prediction)"
   ]
  },
  {
   "cell_type": "code",
   "execution_count": 11,
   "metadata": {},
   "outputs": [
    {
     "name": "stdout",
     "output_type": "stream",
     "text": [
      "1/1 [==============================] - 0s 242ms/step - loss: 0.1895 - acc: 1.0000\n"
     ]
    },
    {
     "data": {
      "text/plain": [
       "[0.1895272582769394, 1.0]"
      ]
     },
     "execution_count": 11,
     "metadata": {},
     "output_type": "execute_result"
    }
   ],
   "source": [
    "# evaluate() : 테스트 데이터를 통해 학습한 모델에 대한 정확도를 평가\n",
    "X_test = [[1, 2, 3, 4, 5], [6, 7, 8, 9, 10]]\n",
    "y_test = [1, 0]\n",
    "model.evaluate(X_test, y_test, batch_size=32)"
   ]
  },
  {
   "cell_type": "code",
   "execution_count": 12,
   "metadata": {},
   "outputs": [
    {
     "name": "stdout",
     "output_type": "stream",
     "text": [
      "1/1 [==============================] - 0s 174ms/step\n"
     ]
    },
    {
     "data": {
      "text/plain": [
       "array([[0.81978106],\n",
       "       [0.16501087]], dtype=float32)"
      ]
     },
     "execution_count": 12,
     "metadata": {},
     "output_type": "execute_result"
    }
   ],
   "source": [
    "# predict() : 임의의 입력에 대한 모델의 출력값을 확인\n",
    "model.predict(X_test, batch_size=32)"
   ]
  },
  {
   "cell_type": "markdown",
   "metadata": {},
   "source": [
    "6. 모델의 저장(Save)과 로드(Load)"
   ]
  },
  {
   "cell_type": "code",
   "execution_count": 13,
   "metadata": {},
   "outputs": [],
   "source": [
    "#save() : 인공 신경망 모델을 hdf5 파일에 저장\n",
    "# model.save(\"model_name.h5\")"
   ]
  },
  {
   "cell_type": "code",
   "execution_count": 14,
   "metadata": {},
   "outputs": [],
   "source": [
    "#load_model() : 저장해둔 모델을 불러옴\n",
    "# model = load_model(\"model_name.h5\")"
   ]
  }
 ],
 "metadata": {
  "kernelspec": {
   "display_name": "Python 3",
   "language": "python",
   "name": "python3"
  },
  "language_info": {
   "codemirror_mode": {
    "name": "ipython",
    "version": 3
   },
   "file_extension": ".py",
   "mimetype": "text/x-python",
   "name": "python",
   "nbconvert_exporter": "python",
   "pygments_lexer": "ipython3",
   "version": "3.11.2"
  }
 },
 "nbformat": 4,
 "nbformat_minor": 2
}
